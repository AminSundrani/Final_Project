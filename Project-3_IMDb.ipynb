{
 "cells": [
  {
   "cell_type": "code",
   "execution_count": 1,
   "metadata": {},
   "outputs": [],
   "source": [
    "%matplotlib inline\n",
    "import matplotlib.pyplot as plt\n",
    "import numpy as np\n",
    "import pandas as pd\n",
    "\n",
    "import pickle\n",
    "import requests\n",
    "import json"
   ]
  },
  {
   "cell_type": "markdown",
   "metadata": {},
   "source": [
    "# Dataset:  IMDb movies.csv\n",
    "\n",
    "Source: Stefano Leone (2020). \"IMDb movies extensive dataset\", Kaggle, https://www.kaggle.com/stefanoleone992/imdb-extensive-dataset/version/2?select=IMDb+movies.csv\n",
    "\n",
    "Description: 81k+ movies and 175k+ cast members scraped from IMDb.\n"
   ]
  },
  {
   "cell_type": "code",
   "execution_count": 2,
   "metadata": {},
   "outputs": [
    {
     "name": "stderr",
     "output_type": "stream",
     "text": [
      "C:\\Users\\mdsiy\\anaconda3\\lib\\site-packages\\IPython\\core\\interactiveshell.py:3146: DtypeWarning: Columns (3) have mixed types.Specify dtype option on import or set low_memory=False.\n",
      "  has_raised = await self.run_ast_nodes(code_ast.body, cell_name,\n"
     ]
    },
    {
     "name": "stdout",
     "output_type": "stream",
     "text": [
      "<class 'pandas.core.frame.DataFrame'>\n",
      "RangeIndex: 85855 entries, 0 to 85854\n",
      "Data columns (total 22 columns):\n",
      " #   Column                 Non-Null Count  Dtype  \n",
      "---  ------                 --------------  -----  \n",
      " 0   imdb_title_id          85855 non-null  object \n",
      " 1   title                  85855 non-null  object \n",
      " 2   original_title         85855 non-null  object \n",
      " 3   year                   85855 non-null  object \n",
      " 4   date_published         85855 non-null  object \n",
      " 5   genre                  85855 non-null  object \n",
      " 6   duration               85855 non-null  int64  \n",
      " 7   country                85791 non-null  object \n",
      " 8   language               85022 non-null  object \n",
      " 9   director               85768 non-null  object \n",
      " 10  writer                 84283 non-null  object \n",
      " 11  production_company     81400 non-null  object \n",
      " 12  actors                 85786 non-null  object \n",
      " 13  description            83740 non-null  object \n",
      " 14  avg_vote               85855 non-null  float64\n",
      " 15  votes                  85855 non-null  int64  \n",
      " 16  budget                 23710 non-null  object \n",
      " 17  usa_gross_income       15326 non-null  object \n",
      " 18  worlwide_gross_income  31016 non-null  object \n",
      " 19  metascore              13305 non-null  float64\n",
      " 20  reviews_from_users     78258 non-null  float64\n",
      " 21  reviews_from_critics   74058 non-null  float64\n",
      "dtypes: float64(4), int64(2), object(16)\n",
      "memory usage: 14.4+ MB\n"
     ]
    }
   ],
   "source": [
    "# Read the csv file into a pandas DataFrame\n",
    "\n",
    "movies = pd.read_csv('Resources/IMDb movies.csv')\n",
    "movies.info()"
   ]
  },
  {
   "cell_type": "code",
   "execution_count": 3,
   "metadata": {},
   "outputs": [
    {
     "data": {
      "text/html": [
       "<div>\n",
       "<style scoped>\n",
       "    .dataframe tbody tr th:only-of-type {\n",
       "        vertical-align: middle;\n",
       "    }\n",
       "\n",
       "    .dataframe tbody tr th {\n",
       "        vertical-align: top;\n",
       "    }\n",
       "\n",
       "    .dataframe thead th {\n",
       "        text-align: right;\n",
       "    }\n",
       "</style>\n",
       "<table border=\"1\" class=\"dataframe\">\n",
       "  <thead>\n",
       "    <tr style=\"text-align: right;\">\n",
       "      <th></th>\n",
       "      <th>title</th>\n",
       "      <th>year</th>\n",
       "      <th>genre</th>\n",
       "      <th>country</th>\n",
       "      <th>avg_vote</th>\n",
       "      <th>budget</th>\n",
       "      <th>worlwide_gross_income</th>\n",
       "    </tr>\n",
       "  </thead>\n",
       "  <tbody>\n",
       "    <tr>\n",
       "      <th>165</th>\n",
       "      <td>Il gabinetto del dottor Caligari</td>\n",
       "      <td>1920</td>\n",
       "      <td>Fantasy, Horror, Mystery</td>\n",
       "      <td>Germany</td>\n",
       "      <td>8.1</td>\n",
       "      <td>18000</td>\n",
       "      <td>8811</td>\n",
       "    </tr>\n",
       "    <tr>\n",
       "      <th>210</th>\n",
       "      <td>Markens grøde</td>\n",
       "      <td>1921</td>\n",
       "      <td>Drama</td>\n",
       "      <td>Norway</td>\n",
       "      <td>6.6</td>\n",
       "      <td>250000</td>\n",
       "      <td>4272</td>\n",
       "    </tr>\n",
       "    <tr>\n",
       "      <th>245</th>\n",
       "      <td>I quattro cavalieri dell'Apocalisse</td>\n",
       "      <td>1921</td>\n",
       "      <td>Drama, Romance, War</td>\n",
       "      <td>USA</td>\n",
       "      <td>7.2</td>\n",
       "      <td>800000</td>\n",
       "      <td>9183673</td>\n",
       "    </tr>\n",
       "    <tr>\n",
       "      <th>251</th>\n",
       "      <td>Il monello</td>\n",
       "      <td>1921</td>\n",
       "      <td>Comedy, Drama, Family</td>\n",
       "      <td>USA</td>\n",
       "      <td>8.3</td>\n",
       "      <td>250000</td>\n",
       "      <td>26916</td>\n",
       "    </tr>\n",
       "    <tr>\n",
       "      <th>348</th>\n",
       "      <td>La donna di Parigi</td>\n",
       "      <td>1923</td>\n",
       "      <td>Drama, Romance</td>\n",
       "      <td>USA</td>\n",
       "      <td>7.0</td>\n",
       "      <td>351000</td>\n",
       "      <td>11233</td>\n",
       "    </tr>\n",
       "  </tbody>\n",
       "</table>\n",
       "</div>"
      ],
      "text/plain": [
       "                                   title  year                     genre  \\\n",
       "165     Il gabinetto del dottor Caligari  1920  Fantasy, Horror, Mystery   \n",
       "210                        Markens grøde  1921                     Drama   \n",
       "245  I quattro cavalieri dell'Apocalisse  1921       Drama, Romance, War   \n",
       "251                           Il monello  1921     Comedy, Drama, Family   \n",
       "348                   La donna di Parigi  1923            Drama, Romance   \n",
       "\n",
       "     country  avg_vote  budget  worlwide_gross_income  \n",
       "165  Germany       8.1   18000                   8811  \n",
       "210   Norway       6.6  250000                   4272  \n",
       "245      USA       7.2  800000                9183673  \n",
       "251      USA       8.3  250000                  26916  \n",
       "348      USA       7.0  351000                  11233  "
      ]
     },
     "execution_count": 3,
     "metadata": {},
     "output_type": "execute_result"
    }
   ],
   "source": [
    "# Extract items \"title\", \"year\", \"country\", \"avg_vote\", \"budget\" & \"worlwide_gross_income\"\n",
    "movies_tygcvbi = movies[[\"title\", \"year\", \"genre\", \"country\", \"avg_vote\", \"budget\", \"worlwide_gross_income\"]]\n",
    "\n",
    "# Remove NaN values\n",
    "movies_tygcvbi = movies_tygcvbi.dropna()\n",
    "\n",
    "# Removing items \"TV Movie 2019\" from cloumn \"year\"\n",
    "movies_tygcvbi = movies_tygcvbi[movies_tygcvbi[\"year\"] != \"TV Movie 2019\" ]\n",
    "\n",
    "# Remove \"Currencies\" from columns \"budget\" & \"worlwide_gross_income\"\n",
    "movies_tygcvbi[\"budget\"] = movies_tygcvbi[\"budget\"].str.split(\" \").str[1]\n",
    "movies_tygcvbi[\"worlwide_gross_income\"] =movies_tygcvbi[\"worlwide_gross_income\"].str.split(\" \").str[1]\n",
    "\n",
    "# Change columns \"year\", \"budget\" & \"worlwide_gross_income\" to \"int64\"\n",
    "movies_tygcvbi = movies_tygcvbi.astype({\"year\": \"int64\"})\n",
    "movies_tygcvbi = movies_tygcvbi.astype({\"budget\": \"int64\"})\n",
    "movies_tygcvbi = movies_tygcvbi.astype({\"worlwide_gross_income\": \"int64\"})\n",
    "\n",
    "movies_tygcvbi.head()"
   ]
  },
  {
   "cell_type": "code",
   "execution_count": 4,
   "metadata": {},
   "outputs": [
    {
     "data": {
      "text/plain": [
       "title                     object\n",
       "year                       int64\n",
       "genre                     object\n",
       "country                   object\n",
       "avg_vote                 float64\n",
       "budget                     int64\n",
       "worlwide_gross_income      int64\n",
       "dtype: object"
      ]
     },
     "execution_count": 4,
     "metadata": {},
     "output_type": "execute_result"
    }
   ],
   "source": [
    "movies_tygcvbi.dtypes"
   ]
  },
  {
   "cell_type": "code",
   "execution_count": 5,
   "metadata": {},
   "outputs": [
    {
     "data": {
      "text/html": [
       "<div>\n",
       "<style scoped>\n",
       "    .dataframe tbody tr th:only-of-type {\n",
       "        vertical-align: middle;\n",
       "    }\n",
       "\n",
       "    .dataframe tbody tr th {\n",
       "        vertical-align: top;\n",
       "    }\n",
       "\n",
       "    .dataframe thead th {\n",
       "        text-align: right;\n",
       "    }\n",
       "</style>\n",
       "<table border=\"1\" class=\"dataframe\">\n",
       "  <thead>\n",
       "    <tr style=\"text-align: right;\">\n",
       "      <th></th>\n",
       "      <th>title</th>\n",
       "      <th>year</th>\n",
       "      <th>genre</th>\n",
       "      <th>country</th>\n",
       "      <th>avg_vote</th>\n",
       "      <th>budget</th>\n",
       "      <th>worlwide_gross_income</th>\n",
       "    </tr>\n",
       "  </thead>\n",
       "  <tbody>\n",
       "    <tr>\n",
       "      <th>38237</th>\n",
       "      <td>Foodfight!</td>\n",
       "      <td>2011</td>\n",
       "      <td>Animation, Action, Adventure</td>\n",
       "      <td>USA</td>\n",
       "      <td>1.5</td>\n",
       "      <td>65000000</td>\n",
       "      <td>120141</td>\n",
       "    </tr>\n",
       "    <tr>\n",
       "      <th>42183</th>\n",
       "      <td>In My Sleep</td>\n",
       "      <td>2010</td>\n",
       "      <td>Drama, Mystery, Thriller</td>\n",
       "      <td>USA</td>\n",
       "      <td>5.5</td>\n",
       "      <td>1000000</td>\n",
       "      <td>30158</td>\n",
       "    </tr>\n",
       "    <tr>\n",
       "      <th>43614</th>\n",
       "      <td>La preda perfetta</td>\n",
       "      <td>2014</td>\n",
       "      <td>Action, Crime, Drama</td>\n",
       "      <td>USA</td>\n",
       "      <td>6.5</td>\n",
       "      <td>28000000</td>\n",
       "      <td>58834384</td>\n",
       "    </tr>\n",
       "    <tr>\n",
       "      <th>43822</th>\n",
       "      <td>Jurassic World</td>\n",
       "      <td>2015</td>\n",
       "      <td>Action, Adventure, Sci-Fi</td>\n",
       "      <td>USA</td>\n",
       "      <td>7.0</td>\n",
       "      <td>150000000</td>\n",
       "      <td>1670401444</td>\n",
       "    </tr>\n",
       "    <tr>\n",
       "      <th>44487</th>\n",
       "      <td>I tre marmittoni</td>\n",
       "      <td>2012</td>\n",
       "      <td>Comedy, Family</td>\n",
       "      <td>USA</td>\n",
       "      <td>5.1</td>\n",
       "      <td>30000000</td>\n",
       "      <td>54819301</td>\n",
       "    </tr>\n",
       "  </tbody>\n",
       "</table>\n",
       "</div>"
      ],
      "text/plain": [
       "                   title  year                         genre country  \\\n",
       "38237         Foodfight!  2011  Animation, Action, Adventure     USA   \n",
       "42183        In My Sleep  2010      Drama, Mystery, Thriller     USA   \n",
       "43614  La preda perfetta  2014          Action, Crime, Drama     USA   \n",
       "43822     Jurassic World  2015     Action, Adventure, Sci-Fi     USA   \n",
       "44487   I tre marmittoni  2012                Comedy, Family     USA   \n",
       "\n",
       "       avg_vote     budget  worlwide_gross_income  \n",
       "38237       1.5   65000000                 120141  \n",
       "42183       5.5    1000000                  30158  \n",
       "43614       6.5   28000000               58834384  \n",
       "43822       7.0  150000000             1670401444  \n",
       "44487       5.1   30000000               54819301  "
      ]
     },
     "execution_count": 5,
     "metadata": {},
     "output_type": "execute_result"
    }
   ],
   "source": [
    "# \"country\": \"USA\"\n",
    "# \"year\": 2010 ~ 2019\n",
    "# \"budget\": => $ 1,000,000 (1149 Data Points)\n",
    "\n",
    "movies_tygcvbi = movies_tygcvbi[(movies_tygcvbi[\"country\"] == \"USA\") &\n",
    "                                (movies_tygcvbi[\"year\"] >= 2010) &\n",
    "                                (movies_tygcvbi[\"year\"] <= 2019) &\n",
    "                                (movies_tygcvbi[\"budget\"] >= 1000000)]\n",
    "\n",
    "# len(movies_tygcvbi)\n",
    "movies_tygcvbi.head()"
   ]
  },
  {
   "cell_type": "code",
   "execution_count": 6,
   "metadata": {},
   "outputs": [
    {
     "name": "stdout",
     "output_type": "stream",
     "text": [
      "Shape:  (1149, 1) (1149, 1)\n"
     ]
    }
   ],
   "source": [
    "# Assign the data to X and y\n",
    "# Note: Sklearn requires a two-dimensional array of values\n",
    "# so we use reshape to create this\n",
    "\n",
    "X = movies_tygcvbi[\"budget\"].values.reshape(-1, 1)\n",
    "y = movies_tygcvbi[\"worlwide_gross_income\"].values.reshape(-1, 1)\n",
    "\n",
    "print(\"Shape: \", X.shape, y.shape)"
   ]
  },
  {
   "cell_type": "code",
   "execution_count": 7,
   "metadata": {
    "deletable": false,
    "nbgrader": {
     "checksum": "fe58756b764642a406005196d519a8c2",
     "grade": false,
     "grade_id": "cell-3d94ebba220cf0cb",
     "locked": false,
     "schema_version": 1,
     "solution": true
    }
   },
   "outputs": [
    {
     "data": {
      "text/plain": [
       "<matplotlib.collections.PathCollection at 0x20c0582c250>"
      ]
     },
     "execution_count": 7,
     "metadata": {},
     "output_type": "execute_result"
    },
    {
     "data": {
      "image/png": "[encoded data removed]",
      "text/plain": [
       "<Figure size 432x288 with 1 Axes>"
      ]
     },
     "metadata": {
      "needs_background": "light"
     },
     "output_type": "display_data"
    }
   ],
   "source": [
    "# Plot the data to see if a linear trend exists\n",
    "\n",
    "plt.scatter(X, y)"
   ]
  },
  {
   "cell_type": "code",
   "execution_count": 8,
   "metadata": {
    "deletable": false,
    "nbgrader": {
     "checksum": "2027d5fb7e7bd5361524c29097ee7a31",
     "grade": false,
     "grade_id": "cell-9042a62fdddc21ba",
     "locked": false,
     "schema_version": 1,
     "solution": true
    }
   },
   "outputs": [],
   "source": [
    "# Use sklearn's `train_test_split` to split the data into training and testing\n",
    "\n",
    "from sklearn.model_selection import train_test_split\n",
    "\n",
    "X_train, X_test, y_train, y_test = train_test_split(X, y, random_state=42)"
   ]
  },
  {
   "cell_type": "code",
   "execution_count": 9,
   "metadata": {
    "deletable": false,
    "nbgrader": {
     "checksum": "e90eb8b19952b9b4ef9859db57d64ea3",
     "grade": false,
     "grade_id": "cell-c28431477001b4ca",
     "locked": false,
     "schema_version": 1,
     "solution": true
    }
   },
   "outputs": [],
   "source": [
    "# Create the model\n",
    "\n",
    "from sklearn.linear_model import LinearRegression\n",
    "\n",
    "model = LinearRegression()"
   ]
  },
  {
   "cell_type": "code",
   "execution_count": 10,
   "metadata": {
    "deletable": false,
    "nbgrader": {
     "checksum": "326accdefbbcf6f04b618b156c83341b",
     "grade": false,
     "grade_id": "cell-cf45418a342b12fd",
     "locked": false,
     "schema_version": 1,
     "solution": true
    }
   },
   "outputs": [
    {
     "data": {
      "text/plain": [
       "LinearRegression()"
      ]
     },
     "execution_count": 10,
     "metadata": {},
     "output_type": "execute_result"
    }
   ],
   "source": [
    "# Fit the model to the training data. \n",
    "\n",
    "model.fit(X_train, y_train)"
   ]
  },
  {
   "cell_type": "code",
   "execution_count": 11,
   "metadata": {
    "deletable": false,
    "nbgrader": {
     "checksum": "0e2bd9c2594437313ff923577b80c612",
     "grade": false,
     "grade_id": "cell-2012c0fff63f915a",
     "locked": false,
     "schema_version": 1,
     "solution": true
    }
   },
   "outputs": [
    {
     "name": "stdout",
     "output_type": "stream",
     "text": [
      "Mean Squared Error (MSE): 2.3177479797129196e+16\n",
      "R-squared (R2): 0.6239689238377804\n"
     ]
    }
   ],
   "source": [
    "# Calculate the mean_squared_error and the r-squared value\n",
    "# for the testing data\n",
    "\n",
    "from sklearn.metrics import mean_squared_error, r2_score\n",
    "\n",
    "# Use our model to predict a value\n",
    "predicted = model.predict(X_test)\n",
    "\n",
    "mse = mean_squared_error(y_test, predicted)\n",
    "print(f\"Mean Squared Error (MSE): {mse}\")\n",
    "\n",
    "r2 = r2_score(y_test, predicted)\n",
    "print(f\"R-squared (R2): {r2}\")"
   ]
  },
  {
   "cell_type": "code",
   "execution_count": 12,
   "metadata": {
    "deletable": false,
    "nbgrader": {
     "checksum": "2927500ee7aa8a95fdc5b8185c12b145",
     "grade": false,
     "grade_id": "cell-280db723dfdf1dc7",
     "locked": false,
     "schema_version": 1,
     "solution": true
    }
   },
   "outputs": [
    {
     "data": {
      "text/plain": [
       "0.6239689238377804"
      ]
     },
     "execution_count": 12,
     "metadata": {},
     "output_type": "execute_result"
    }
   ],
   "source": [
    "# Call the `score` method on the model to show the r2 score\n",
    "\n",
    "model.score(X_test, y_test)"
   ]
  },
  {
   "cell_type": "code",
   "execution_count": 13,
   "metadata": {},
   "outputs": [],
   "source": [
    "# Save the model as \"movies_model_overall.pkl\"\n",
    "\n",
    "pickle.dump(model, open('movies_model_overall.pkl','wb'))"
   ]
  },
  {
   "cell_type": "code",
   "execution_count": 14,
   "metadata": {},
   "outputs": [
    {
     "name": "stdout",
     "output_type": "stream",
     "text": [
      "[[7.87197192e+08]]\n"
     ]
    }
   ],
   "source": [
    "# Load model and predict income based on $ 200 million.\n",
    "\n",
    "model = pickle.load(open('movies_model_overall.pkl','rb'))\n",
    "print(model.predict([[200000000]]))"
   ]
  },
  {
   "cell_type": "code",
   "execution_count": null,
   "metadata": {},
   "outputs": [],
   "source": []
  }
 ],
 "metadata": {
  "kernelspec": {
   "display_name": "Python 3",
   "language": "python",
   "name": "python3"
  },
  "language_info": {
   "codemirror_mode": {
    "name": "ipython",
    "version": 3
   },
   "file_extension": ".py",
   "mimetype": "text/x-python",
   "name": "python",
   "nbconvert_exporter": "python",
   "pygments_lexer": "ipython3",
   "version": "3.8.5"
  },
  "varInspector": {
   "cols": {
    "lenName": 16,
    "lenType": 16,
    "lenVar": 40
   },
   "kernels_config": {
    "python": {
     "delete_cmd_postfix": "",
     "delete_cmd_prefix": "del ",
     "library": "var_list.py",
     "varRefreshCmd": "print(var_dic_list())"
    },
    "r": {
     "delete_cmd_postfix": ") ",
     "delete_cmd_prefix": "rm(",
     "library": "var_list.r",
     "varRefreshCmd": "cat(var_dic_list()) "
    }
   },
   "types_to_exclude": [
    "module",
    "function",
    "builtin_function_or_method",
    "instance",
    "_Feature"
   ],
   "window_display": false
  }
 },
 "nbformat": 4,
 "nbformat_minor": 2
}
